{
 "cells": [
  {
   "cell_type": "markdown",
   "id": "dfc69423",
   "metadata": {},
   "source": [
    "# COLLECTING TWEETS FROM #Hashtag"
   ]
  },
  {
   "cell_type": "markdown",
   "id": "567b3705",
   "metadata": {},
   "source": [
    "## INSTALL TWEEPY"
   ]
  },
  {
   "cell_type": "code",
   "execution_count": null,
   "id": "50cfdfa0",
   "metadata": {},
   "outputs": [],
   "source": [
    "!pip install tweepy"
   ]
  },
  {
   "cell_type": "markdown",
   "id": "c94db6bb",
   "metadata": {},
   "source": [
    "## IMPORT LIBRARIES"
   ]
  },
  {
   "cell_type": "code",
   "execution_count": null,
   "id": "59e17e69",
   "metadata": {},
   "outputs": [],
   "source": [
    "import csv\n",
    "import pandas as pd\n",
    "from datetime import datetime\n",
    "import tweepy\n",
    "from tweepy import OAuthHandler\n",
    "from timeit import default_timer as timer"
   ]
  },
  {
   "cell_type": "markdown",
   "id": "c8d4cd6b",
   "metadata": {},
   "source": [
    "## BEARER TOKEN & CLIENT"
   ]
  },
  {
   "cell_type": "code",
   "execution_count": null,
   "id": "97fda3a7",
   "metadata": {},
   "outputs": [],
   "source": [
    "bearer_token = \"Enter your bearer token\"\n"
   ]
  },
  {
   "cell_type": "code",
   "execution_count": null,
   "id": "fc57d8cf",
   "metadata": {},
   "outputs": [],
   "source": [
    "client = tweepy.Client(bearer_token=bearer_token)"
   ]
  },
  {
   "cell_type": "markdown",
   "id": "743e4b9b",
   "metadata": {},
   "source": [
    "## RETRIEVING TWEETS WIT PAGINATOR"
   ]
  },
  {
   "cell_type": "code",
   "execution_count": null,
   "id": "70acd2e7",
   "metadata": {},
   "outputs": [],
   "source": [
    "tweet_fields_to_get=['text']\n",
    "\n",
    "response = tweepy.Paginator(client.search_recent_tweets,\"-is:retweet -is:reply #your_hashtag lang:en\",\n",
    "                                    tweet_fields=tweet_fields_to_get,\n",
    "                                    max_results=100, limit=6\n",
    "                                   ).flatten(1000)"
   ]
  },
  {
   "cell_type": "markdown",
   "id": "7e3102a0",
   "metadata": {},
   "source": [
    "## SAVING TWEETS TO A CSV FILE WITH PANDAS"
   ]
  },
  {
   "cell_type": "code",
   "execution_count": null,
   "id": "a047fa4a",
   "metadata": {},
   "outputs": [],
   "source": [
    "pd.Series(tweet.text.replace('\\n',' ') for tweet in response).to_csv(\"name of the csv file\", index=False)"
   ]
  }
 ],
 "metadata": {
  "kernelspec": {
   "display_name": "Python 3 (ipykernel)",
   "language": "python",
   "name": "python3"
  },
  "language_info": {
   "codemirror_mode": {
    "name": "ipython",
    "version": 3
   },
   "file_extension": ".py",
   "mimetype": "text/x-python",
   "name": "python",
   "nbconvert_exporter": "python",
   "pygments_lexer": "ipython3",
   "version": "3.9.13"
  }
 },
 "nbformat": 4,
 "nbformat_minor": 5
}
